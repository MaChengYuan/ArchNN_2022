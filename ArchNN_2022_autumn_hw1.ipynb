{
  "cells": [
    {
      "cell_type": "markdown",
      "metadata": {
        "id": "6W-qyOTPct9-"
      },
      "source": [
        "# Part 1. PyTorch introductory assignments\n",
        "\n",
        "PyTorch exercises for those who want to remember the basics of framefork."
      ]
    },
    {
      "cell_type": "code",
      "execution_count": 29,
      "metadata": {
        "id": "KobPC6g8cxPN"
      },
      "outputs": [],
      "source": [
        "# main framework\n",
        "import torch\n",
        "# additional functions on tensors or networks\n",
        "from torch.nn import functional as F\n",
        "\n",
        "# work with arrays in pure python\n",
        "import numpy as np"
      ]
    },
    {
      "cell_type": "markdown",
      "metadata": {
        "id": "-3P3iL68dm21"
      },
      "source": [
        "## 1.1 Tensors creation\n",
        "Tensors is a data structure optimized for automatic differentiation. In most cases, working with them is similar to working with arrays in numpy.\n",
        "\n",
        "We use `torch.tensor()` to create tensor object from pure Python and Numpy objects."
      ]
    },
    {
      "cell_type": "markdown",
      "metadata": {
        "id": "H_2lnqdFHG-r"
      },
      "source": [
        "### 1. From list"
      ]
    },
    {
      "cell_type": "code",
      "execution_count": 30,
      "metadata": {
        "colab": {
          "base_uri": "https://localhost:8080/"
        },
        "id": "Q44dHwvGdgtV",
        "outputId": "7dd87ccd-508b-4400-cc60-8a6ea2c057e2"
      },
      "outputs": [
        {
          "output_type": "stream",
          "name": "stdout",
          "text": [
            "tensor([[1, 2, 3],\n",
            "        [4, 5, 6],\n",
            "        [7, 8, 9]])\n"
          ]
        }
      ],
      "source": [
        "data_lst = [[1, 2, 3], [4, 5, 6], [7, 8, 9]]\n",
        "''' YOUR CODE HERE '''\n",
        "tensor_from_lst = torch.tensor(data_lst)\n",
        "print(tensor_from_lst)"
      ]
    },
    {
      "cell_type": "code",
      "execution_count": 31,
      "metadata": {
        "id": "mjwKxHWyIAGT"
      },
      "outputs": [],
      "source": [
        "assert(tensor_from_lst.dtype == torch.int64)\n",
        "assert(tensor_from_lst.shape == torch.Size([3, 3]))"
      ]
    },
    {
      "cell_type": "markdown",
      "metadata": {
        "id": "2HEtgbfUJJd8"
      },
      "source": [
        "### 2. From Numpy array\n",
        "\n"
      ]
    },
    {
      "cell_type": "code",
      "execution_count": 32,
      "metadata": {
        "colab": {
          "base_uri": "https://localhost:8080/"
        },
        "id": "B3JJ7L7jJiaL",
        "outputId": "94015823-6904-41b7-f12a-afdeaebbbb61"
      },
      "outputs": [
        {
          "output_type": "stream",
          "name": "stdout",
          "text": [
            "tensor([[1, 2, 3],\n",
            "        [4, 5, 6],\n",
            "        [7, 8, 9]])\n"
          ]
        }
      ],
      "source": [
        "data_ndarray = np.array([[1, 2, 3], [4, 5, 6], [7, 8, 9]])\n",
        "''' YOUR CODE HERE '''\n",
        "tensor_from_numpy = torch.tensor(data_ndarray)\n",
        "print(tensor_from_numpy)"
      ]
    },
    {
      "cell_type": "code",
      "execution_count": 33,
      "metadata": {
        "id": "HDoWDqiPKXAT"
      },
      "outputs": [],
      "source": [
        "assert(tensor_from_numpy.dtype == torch.int64)\n",
        "assert(tensor_from_numpy.shape == torch.Size([3, 3]))"
      ]
    },
    {
      "cell_type": "markdown",
      "metadata": {
        "id": "0y6JfgzAKYxb"
      },
      "source": [
        "You can also try to use `torch.from_numpy()` on the following array to understand the differences between this function and `torch.tensor()`"
      ]
    },
    {
      "cell_type": "code",
      "execution_count": 34,
      "metadata": {
        "colab": {
          "base_uri": "https://localhost:8080/"
        },
        "id": "dIewLwK3Kxbj",
        "outputId": "761c5798-efbb-4aed-f272-fea59f277725"
      },
      "outputs": [
        {
          "output_type": "stream",
          "name": "stdout",
          "text": [
            "tensor([[1, 2, 3],\n",
            "        [4, 5, 6],\n",
            "        [7, 8, 9]])\n"
          ]
        }
      ],
      "source": [
        "data_ndarray2 = np.array([[1, 2, 3], [4, 5, 6], [7, 8, 9]])\n",
        "''' YOUR CODE HERE '''\n",
        "tensor_using_from_numpy = torch.from_numpy(data_ndarray2)\n",
        "print(tensor_using_from_numpy)"
      ]
    },
    {
      "cell_type": "code",
      "execution_count": 35,
      "metadata": {
        "colab": {
          "base_uri": "https://localhost:8080/"
        },
        "id": "KqJs5outLhCb",
        "outputId": "d7ddbb32-0836-46f9-b96d-e37a04345873"
      },
      "outputs": [
        {
          "output_type": "stream",
          "name": "stdout",
          "text": [
            "[1 2 3]\n",
            "[0 0 0]\n"
          ]
        }
      ],
      "source": [
        "tensor_from_numpy *= 0\n",
        "tensor_using_from_numpy *= 0\n",
        "print(data_ndarray[0])\n",
        "print(data_ndarray2[0])"
      ]
    },
    {
      "cell_type": "code",
      "execution_count": 36,
      "metadata": {
        "id": "OJQnlGPGMp9D"
      },
      "outputs": [],
      "source": [
        "assert(all(data_ndarray[0] == [1, 2, 3]))\n",
        "assert(all(data_ndarray2[0] == [0, 0, 0]))"
      ]
    },
    {
      "cell_type": "markdown",
      "metadata": {
        "id": "IXTSVYbfNSZU"
      },
      "source": [
        "### 3. Using default values"
      ]
    },
    {
      "cell_type": "code",
      "execution_count": 37,
      "metadata": {
        "colab": {
          "base_uri": "https://localhost:8080/"
        },
        "id": "5Hz-u_gYLr27",
        "outputId": "46b9f915-9811-4059-f9e5-d0b2da6e65f6"
      },
      "outputs": [
        {
          "output_type": "stream",
          "name": "stdout",
          "text": [
            "Zero:\n",
            "tensor([[[0., 0., 0., 0.],\n",
            "         [0., 0., 0., 0.],\n",
            "         [0., 0., 0., 0.]],\n",
            "\n",
            "        [[0., 0., 0., 0.],\n",
            "         [0., 0., 0., 0.],\n",
            "         [0., 0., 0., 0.]]])\n"
          ]
        }
      ],
      "source": [
        "data_shape = (2, 3, 4)\n",
        "\n",
        "# Creating a tensor of a given shape filled with zeros\n",
        "tensor_zeros = torch.zeros(data_shape)\n",
        "print('Zero:\\n{}'.format(tensor_zeros))"
      ]
    },
    {
      "cell_type": "code",
      "execution_count": 38,
      "metadata": {
        "colab": {
          "base_uri": "https://localhost:8080/"
        },
        "id": "JRj4ZOSCQz-E",
        "outputId": "39dba67c-1d25-4ca7-a215-2904418433a3"
      },
      "outputs": [
        {
          "output_type": "stream",
          "name": "stdout",
          "text": [
            "one:\n",
            "tensor([[[1., 1., 1., 1.],\n",
            "         [1., 1., 1., 1.],\n",
            "         [1., 1., 1., 1.]],\n",
            "\n",
            "        [[1., 1., 1., 1.],\n",
            "         [1., 1., 1., 1.],\n",
            "         [1., 1., 1., 1.]]])\n",
            "rand:\n",
            "tensor([[[0.3542, 0.2683, 0.8083, 0.9421],\n",
            "         [0.7466, 0.3104, 0.5510, 0.9729],\n",
            "         [0.5577, 0.8848, 0.3401, 0.9982]],\n",
            "\n",
            "        [[0.5549, 0.0033, 0.5938, 0.7143],\n",
            "         [0.4436, 0.6618, 0.9386, 0.8145],\n",
            "         [0.0646, 0.6852, 0.2301, 0.6014]]])\n"
          ]
        }
      ],
      "source": [
        "# Create tensor of a given shape filled with ones\n",
        "''' YOUR CODE HERE '''\n",
        "tensor_ones = torch.ones(data_shape)\n",
        "print('one:\\n{}'.format(tensor_ones))\n",
        "\n",
        "# Create tensor of a given shape filled with random numbers\n",
        "''' YOUR CODE HERE '''\n",
        "tensor_rand = torch.rand(data_shape)\n",
        "print('rand:\\n{}'.format(tensor_rand))\n"
      ]
    },
    {
      "cell_type": "code",
      "execution_count": 39,
      "metadata": {
        "id": "VORnV5CrSB1C"
      },
      "outputs": [],
      "source": [
        "assert(all(tensor_ones[0][0] == torch.tensor([1., 1., 1., 1.])))\n",
        "assert(tensor_ones.shape == torch.Size(data_shape))\n",
        "assert(tensor_rand.shape == torch.Size(data_shape))"
      ]
    },
    {
      "cell_type": "markdown",
      "metadata": {
        "id": "6PfdPfD2RNkT"
      },
      "source": [
        "You can also create tensor from sequence using `torch.arange()` and then use `tensor.reshape()` function to convert data into the desired shape."
      ]
    },
    {
      "cell_type": "code",
      "execution_count": 40,
      "metadata": {
        "id": "4cBezVXLRNEs"
      },
      "outputs": [],
      "source": [
        "range_len = 24\n",
        "# Create tensor filled with sequential values from 0 to range_len\n",
        "''' YOUR CODE HERE '''\n",
        "tensor_seq = torch.arange(0, range_len)\n",
        "\n",
        "# Convert the shape of the created tensor to fit data_shape\n",
        "''' YOUR CODE HERE '''\n",
        "tensor_seq_reshaped = tensor_seq.reshape(data_shape)"
      ]
    },
    {
      "cell_type": "code",
      "execution_count": 41,
      "metadata": {
        "id": "pfgHhd2jVItb"
      },
      "outputs": [],
      "source": [
        "assert(tensor_seq[0] == torch.tensor(0))\n",
        "assert(tensor_seq[-1] == torch.tensor(range_len - 1))\n",
        "assert(tensor_seq.shape ==torch.Size([range_len]))"
      ]
    },
    {
      "cell_type": "code",
      "execution_count": 42,
      "metadata": {
        "id": "6lD4IBMFRsEL"
      },
      "outputs": [],
      "source": [
        "assert(tensor_seq_reshaped[0][0][0] == torch.tensor(0))\n",
        "assert(tensor_seq_reshaped[-1][-1][-1] == torch.tensor(range_len - 1))\n",
        "assert(tensor_seq_reshaped.shape == torch.Size(data_shape))"
      ]
    },
    {
      "cell_type": "markdown",
      "metadata": {
        "id": "w8iarPvOXXXz"
      },
      "source": [
        "If you want to make a tensor with a shape of another tensor, but with default values, you can use `torch.values_like()` functions"
      ]
    },
    {
      "cell_type": "code",
      "execution_count": 43,
      "metadata": {
        "colab": {
          "base_uri": "https://localhost:8080/"
        },
        "id": "LiYRWNOMQJFk",
        "outputId": "abb240ab-2833-44fc-b5b0-71001267c1c0"
      },
      "outputs": [
        {
          "output_type": "stream",
          "name": "stdout",
          "text": [
            "Image:\n",
            "tensor([[[0.2012, 0.7057],\n",
            "         [0.0192, 0.8800]]])\n",
            "Image_mask:\n",
            "tensor([[[0., 0.],\n",
            "         [0., 0.]]])\n"
          ]
        }
      ],
      "source": [
        "tensor = torch.rand((1, 2, 2))\n",
        "\n",
        "# For example, you want to create a mask for the image or something filled with zeros\n",
        "tensor_mask = torch.zeros_like(tensor)\n",
        "print('Image:\\n{}'.format(tensor))\n",
        "print('Image_mask:\\n{}'.format(tensor_mask))"
      ]
    },
    {
      "cell_type": "markdown",
      "metadata": {
        "id": "-CQ-VUHgX7Ir"
      },
      "source": [
        "Using similar functions, create a tensor mask filled with ones and a mask filled with the random values"
      ]
    },
    {
      "cell_type": "code",
      "execution_count": 44,
      "metadata": {
        "colab": {
          "base_uri": "https://localhost:8080/"
        },
        "id": "62UbgUOzINGK",
        "outputId": "6aac81e9-d489-44cc-fbbd-74d0d1d06217"
      },
      "outputs": [
        {
          "output_type": "stream",
          "name": "stdout",
          "text": [
            "tensor([[[1., 1.],\n",
            "         [1., 1.]]])\n",
            "tensor([[[0.3296, 0.7352],\n",
            "         [0.4329, 0.8664]]])\n"
          ]
        }
      ],
      "source": [
        "# Mask, filled with ones (with a shape of tensor)\n",
        "''' YOUR CODE HERE '''\n",
        "tensor_mask_ones = torch.ones_like(tensor)\n",
        "print(tensor_mask_ones)\n",
        "\n",
        "# Mask, filled with random values (with a shape of tensor)\n",
        "''' YOUR CODE HERE '''\n",
        "tensor_mask_rand = torch.rand_like(tensor)\n",
        "print(tensor_mask_rand)"
      ]
    },
    {
      "cell_type": "code",
      "execution_count": 45,
      "metadata": {
        "id": "gAu-GFSiYaQp"
      },
      "outputs": [],
      "source": [
        "assert(tensor_mask_ones[0][0][0] == torch.tensor(1.))\n",
        "assert(tensor_mask_ones.shape == tensor.shape)\n",
        "assert(tensor_mask_rand.shape == tensor.shape)"
      ]
    },
    {
      "cell_type": "markdown",
      "metadata": {
        "id": "8_G6jrftZOsr"
      },
      "source": [
        "## 1.2 Devices\n",
        "\n",
        "Tensors can be stored in general memory, GPU memory, TPU memory."
      ]
    },
    {
      "cell_type": "code",
      "execution_count": 46,
      "metadata": {
        "colab": {
          "base_uri": "https://localhost:8080/"
        },
        "id": "WpmBNwwPYu1R",
        "outputId": "34694178-2515-4eb8-85c0-d29d49556159"
      },
      "outputs": [
        {
          "output_type": "stream",
          "name": "stdout",
          "text": [
            "cpu\n"
          ]
        }
      ],
      "source": [
        "tensor = torch.rand((2, 5, 5))\n",
        "print(tensor.device)"
      ]
    },
    {
      "cell_type": "markdown",
      "metadata": {
        "id": "YUD2xWiTbc48"
      },
      "source": [
        "For the further assignments you should use Google Colab with GPU (Runtime -> Change Runtime Type -> Hardware Accelerating) and store tensors in GPU memory."
      ]
    },
    {
      "cell_type": "code",
      "execution_count": 47,
      "metadata": {
        "id": "wDOy0VX6bmDL"
      },
      "outputs": [],
      "source": [
        "device = ('cuda' if torch.cuda.is_available() else 'cpu')"
      ]
    },
    {
      "cell_type": "code",
      "execution_count": 48,
      "metadata": {
        "id": "cteUw9WwaDT5",
        "colab": {
          "base_uri": "https://localhost:8080/"
        },
        "outputId": "2f8f60fb-6f7b-4816-f86f-3f83bd20dd0e"
      },
      "outputs": [
        {
          "output_type": "stream",
          "name": "stdout",
          "text": [
            "No CUDA GPUs are available\n"
          ]
        }
      ],
      "source": [
        "# Move tensor to the GPU memory\n",
        "''' YOUR CODE HERE '''\n",
        "try:\n",
        "    tensor.to('cuda:0')\n",
        "except Exception as e:\n",
        "    print(e)"
      ]
    },
    {
      "cell_type": "code",
      "execution_count": 60,
      "metadata": {
        "id": "rNMyYsp9abgS"
      },
      "outputs": [],
      "source": [
        "assert(tensor.device.type == 'cuda')"
      ]
    },
    {
      "cell_type": "markdown",
      "metadata": {
        "id": "FX-vmw5tb6jU"
      },
      "source": [
        "## 1.3 Autograd\n",
        "\n",
        "Auto differentiation is a core of ML frameworks. PyTorch can figure out the computation of gradients for a set of operations. Almost all pytorch operations are differentiable.\n",
        "\n",
        "`required_grad=True` make PyTorch to store gradients for this particular tensor. Usually, for input values this parameters is set to False - we don't want to change our real data."
      ]
    },
    {
      "cell_type": "code",
      "execution_count": 62,
      "metadata": {
        "id": "A3mOapZqeKbJ"
      },
      "outputs": [],
      "source": [
        "# tensor = torch.rand((2, 4, 4), requires_grad=True)\n",
        "tensor = torch.ones((2, 4, 4))\n",
        "tensor.requires_grad = True"
      ]
    },
    {
      "cell_type": "code",
      "source": [
        "# define function y\n",
        "y = 5 * tensor ** 3 - 3\n",
        "print(y)"
      ],
      "metadata": {
        "colab": {
          "base_uri": "https://localhost:8080/"
        },
        "id": "K5Oaha3gmAKw",
        "outputId": "0779c862-b86b-4422-e6df-7b3b1d25f9aa"
      },
      "execution_count": 63,
      "outputs": [
        {
          "output_type": "stream",
          "name": "stdout",
          "text": [
            "tensor([[[2., 2., 2., 2.],\n",
            "         [2., 2., 2., 2.],\n",
            "         [2., 2., 2., 2.],\n",
            "         [2., 2., 2., 2.]],\n",
            "\n",
            "        [[2., 2., 2., 2.],\n",
            "         [2., 2., 2., 2.],\n",
            "         [2., 2., 2., 2.],\n",
            "         [2., 2., 2., 2.]]], grad_fn=<SubBackward0>)\n"
          ]
        }
      ]
    },
    {
      "cell_type": "code",
      "execution_count": 64,
      "metadata": {
        "colab": {
          "base_uri": "https://localhost:8080/"
        },
        "id": "HsQqec9DeMuB",
        "outputId": "26393f26-8837-4bb0-a1bd-0aff54941000"
      },
      "outputs": [
        {
          "output_type": "stream",
          "name": "stdout",
          "text": [
            "None\n"
          ]
        }
      ],
      "source": [
        "print(tensor.grad)"
      ]
    },
    {
      "cell_type": "markdown",
      "metadata": {
        "id": "r5Tnnn-5ehDE"
      },
      "source": [
        "There is no gradient for our tensor, because we have to call `.backward() ` method of variable $y$. This method will calculate gradien of $y$ over variable tensor\n",
        "\n",
        "NOTE: gradient can be calculated only for a scalar. The output of $y$ is a tensor, we can calculate mean(), sum(), etc"
      ]
    },
    {
      "cell_type": "code",
      "execution_count": 65,
      "metadata": {
        "colab": {
          "base_uri": "https://localhost:8080/"
        },
        "id": "MTcL7kXSePLh",
        "outputId": "b1ed6d8a-e80d-4276-d2be-536fd86f4cd4"
      },
      "outputs": [
        {
          "output_type": "stream",
          "name": "stdout",
          "text": [
            "tensor([[[15., 15., 15., 15.],\n",
            "         [15., 15., 15., 15.],\n",
            "         [15., 15., 15., 15.],\n",
            "         [15., 15., 15., 15.]],\n",
            "\n",
            "        [[15., 15., 15., 15.],\n",
            "         [15., 15., 15., 15.],\n",
            "         [15., 15., 15., 15.],\n",
            "         [15., 15., 15., 15.]]])\n"
          ]
        }
      ],
      "source": [
        "# Call the backward method and calculate gradient for the sum of the y variable\n",
        "''' YOUR CODE HERE '''\n",
        "y.sum().backward()\n",
        "print(tensor.grad)"
      ]
    },
    {
      "cell_type": "code",
      "execution_count": 66,
      "metadata": {
        "id": "j4BbcuK-eRTJ"
      },
      "outputs": [],
      "source": [
        "assert(tensor.grad.shape == torch.Size([2, 4, 4]))\n",
        "assert(tensor.grad[0][0][0] == torch.tensor(15))"
      ]
    },
    {
      "cell_type": "markdown",
      "metadata": {
        "id": "-N-xsoeofiFb"
      },
      "source": [
        "**NOTE:** \n",
        "* you can not run `.backward()` again without calculating y value again;\n",
        "* if you run y function one more time the gradient values for tensor variable will be summed."
      ]
    },
    {
      "cell_type": "code",
      "execution_count": 67,
      "metadata": {
        "id": "zWjIrpwof4Pa",
        "colab": {
          "base_uri": "https://localhost:8080/"
        },
        "outputId": "61f86551-126c-471f-f918-beb50f455a6f"
      },
      "outputs": [
        {
          "output_type": "stream",
          "name": "stdout",
          "text": [
            "tensor([[[30., 30., 30., 30.],\n",
            "         [30., 30., 30., 30.],\n",
            "         [30., 30., 30., 30.],\n",
            "         [30., 30., 30., 30.]],\n",
            "\n",
            "        [[30., 30., 30., 30.],\n",
            "         [30., 30., 30., 30.],\n",
            "         [30., 30., 30., 30.],\n",
            "         [30., 30., 30., 30.]]])\n"
          ]
        }
      ],
      "source": [
        "# Call the backward method again and calculate gradient for the sum of the y variable\n",
        "''' YOUR CODE HERE '''\n",
        "y = 5 * tensor ** 3 - 3\n",
        "y.sum().backward()\n",
        "print(tensor.grad)"
      ]
    },
    {
      "cell_type": "code",
      "execution_count": 68,
      "metadata": {
        "id": "yhve93SVfLsB"
      },
      "outputs": [],
      "source": [
        "assert(tensor.grad.shape == torch.Size([2, 4, 4]))\n",
        "assert(tensor.grad[0][0][0] == torch.tensor(30))"
      ]
    },
    {
      "cell_type": "markdown",
      "metadata": {
        "id": "APlEpRyTgFST"
      },
      "source": [
        "## 1.4 Neural network in PyTorch\n",
        "\n",
        "NN in PyTorch defines as a set of different layers. Each layer is a specific function:\n",
        "\n",
        "\n",
        "*   Linear layer, convolutional layer, etc\n",
        "*   Activation function\n",
        "*   Tensors operations\n",
        "\n",
        "The first type has parameters called weights and biases.The process of NN training is to change weights of NN layers so the prediction of network will match the real object.\n"
      ]
    },
    {
      "cell_type": "markdown",
      "metadata": {
        "id": "YlvtVVDmgcv6"
      },
      "source": [
        "## Linear layer\n",
        "\n",
        "[torch.nn.Linear](https://pytorch.org/docs/stable/generated/torch.nn.Linear.html#torch.nn.Linear) takes a matrix $(N, *, H_{in})$ and produce a matrix $(N, *, H_{out})$, where\n",
        "\n",
        "$*$ means any number of additional dimensions, $H_{in}$ - input features, $H_{out}$ - output features\n",
        "\n",
        "Linear layer is a $W \\cdot x + b$ operation, where $W$ - weights of the layer and $b$ - bias. Bias can be ommited with `bias=False`"
      ]
    },
    {
      "cell_type": "code",
      "execution_count": 69,
      "metadata": {
        "id": "8m8BLBtOfbT6",
        "colab": {
          "base_uri": "https://localhost:8080/"
        },
        "outputId": "c8877ea9-4c81-4c52-a938-bd28c8e039a2"
      },
      "outputs": [
        {
          "output_type": "stream",
          "name": "stdout",
          "text": [
            "input shape:  torch.Size([3, 5])\n"
          ]
        }
      ],
      "source": [
        "input_tensor = torch.ones((3, 5))\n",
        "print('input shape: ', input_tensor.shape)"
      ]
    },
    {
      "cell_type": "markdown",
      "metadata": {
        "id": "QQfOM30-hX37"
      },
      "source": [
        "We fed sample of data with batch_size=3 and features of each sample=5. \n",
        "\n",
        "All samples in a batch processed separately. This is true for all layers and functions of PyTorch."
      ]
    },
    {
      "cell_type": "code",
      "execution_count": 72,
      "metadata": {
        "id": "CLpsiSGshFvb",
        "colab": {
          "base_uri": "https://localhost:8080/"
        },
        "outputId": "fe1349eb-87d9-4ed1-b1c6-e50f939f73b9"
      },
      "outputs": [
        {
          "output_type": "execute_result",
          "data": {
            "text/plain": [
              "Linear(in_features=5, out_features=100, bias=False)"
            ]
          },
          "metadata": {},
          "execution_count": 72
        }
      ],
      "source": [
        "# Create a linear layer for given data with the number of out_features=100 and ommited bias (don't forget about GPU)\n",
        "''' YOUR CODE HERE '''\n",
        "layer = torch.nn.Linear(in_features=5, out_features=100, bias=False, device='cuda:0')\n",
        "layer"
      ]
    },
    {
      "cell_type": "markdown",
      "metadata": {
        "id": "qJepe-jlh5Pi"
      },
      "source": [
        "Let's take a look at layers parameters. \n",
        "\n",
        "`layer.paramaters()` outputs a generator of all weights and biases of this object."
      ]
    },
    {
      "cell_type": "code",
      "execution_count": 73,
      "metadata": {
        "id": "GS3o9IikhJoQ",
        "colab": {
          "base_uri": "https://localhost:8080/"
        },
        "outputId": "4b8cab73-5583-4f72-c952-cd3446b0da6e"
      },
      "outputs": [
        {
          "output_type": "stream",
          "name": "stdout",
          "text": [
            "<class 'generator'>\n",
            "torch.Size([100, 5])\n"
          ]
        }
      ],
      "source": [
        "print(type(layer.parameters()))\n",
        "# iterate over layer parameters and print shapes\n",
        "for i in layer.parameters():\n",
        "    print(i.shape)"
      ]
    },
    {
      "cell_type": "markdown",
      "metadata": {
        "id": "D6J6Gi3qiDIM"
      },
      "source": [
        "You should receive the following output:\n",
        "\n",
        "![image.png](data:image/png;base64,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)"
      ]
    },
    {
      "cell_type": "markdown",
      "metadata": {
        "id": "u7KbPhOUiSDj"
      },
      "source": [
        "Single layer contains only one weight matrix of shape (H_out, H_in). You can access the weights of a layer directly, using `layer.weight` method"
      ]
    },
    {
      "cell_type": "code",
      "execution_count": 74,
      "metadata": {
        "id": "9oPpsDNRiB8T",
        "colab": {
          "base_uri": "https://localhost:8080/"
        },
        "outputId": "b63710ab-c44b-4bd9-b240-bd5557d7cbda"
      },
      "outputs": [
        {
          "output_type": "stream",
          "name": "stdout",
          "text": [
            "torch.Size([100, 5])\n"
          ]
        }
      ],
      "source": [
        "print(layer.weight.shape)"
      ]
    },
    {
      "cell_type": "markdown",
      "metadata": {
        "id": "4xP6UY8GioBC"
      },
      "source": [
        "You can move layer from CPU to GPU in the same way as tensor."
      ]
    },
    {
      "cell_type": "code",
      "execution_count": 75,
      "metadata": {
        "id": "nlFkkXb4iZgB",
        "colab": {
          "base_uri": "https://localhost:8080/"
        },
        "outputId": "13a0bcdc-311f-414a-c3ff-1e22140f5ce6"
      },
      "outputs": [
        {
          "output_type": "execute_result",
          "data": {
            "text/plain": [
              "Linear(in_features=5, out_features=100, bias=False)"
            ]
          },
          "metadata": {},
          "execution_count": 75
        }
      ],
      "source": [
        "layer.to('cpu') # or layer.cpu() for simplicity"
      ]
    },
    {
      "cell_type": "code",
      "execution_count": 77,
      "metadata": {
        "id": "i_JICUxwisUh",
        "colab": {
          "base_uri": "https://localhost:8080/"
        },
        "outputId": "57708322-5240-43c8-bec2-5132a46afac7"
      },
      "outputs": [
        {
          "output_type": "execute_result",
          "data": {
            "text/plain": [
              "Linear(in_features=5, out_features=100, bias=False)"
            ]
          },
          "metadata": {},
          "execution_count": 77
        }
      ],
      "source": [
        "layer.to('cuda:0')"
      ]
    },
    {
      "cell_type": "markdown",
      "metadata": {
        "id": "Q7EFV0g-i48a"
      },
      "source": [
        "### Neural Network\n",
        "\n",
        "You can write a NN as a set of layers and then apply them sequentially"
      ]
    },
    {
      "cell_type": "code",
      "execution_count": 78,
      "metadata": {
        "id": "Ab1xdz34iu5x",
        "colab": {
          "base_uri": "https://localhost:8080/"
        },
        "outputId": "254dc37b-1921-4b26-aa43-113fef9ace15"
      },
      "outputs": [
        {
          "output_type": "execute_result",
          "data": {
            "text/plain": [
              "torch.Size([3, 3])"
            ]
          },
          "metadata": {},
          "execution_count": 78
        }
      ],
      "source": [
        "input_tensor = torch.rand((3, 5))\n",
        "\n",
        "# Create three sequential linear layers for the given input tensor. First two with the output 100 and the last one with the output 3.\n",
        "# Apply them sequentially and store in the output\n",
        "''' YOUR CODE HERE '''\n",
        "input = torch.nn.Linear(in_features=5, out_features=100)\n",
        "hidden_1 = torch.nn.Linear(in_features=100, out_features=100)\n",
        "output = torch.nn.Linear(in_features=100, out_features=3)\n",
        "# approx 3 lines of code here\n",
        "\n",
        "output = output(hidden_1(input(input_tensor)))\n",
        "output.shape"
      ]
    },
    {
      "cell_type": "code",
      "execution_count": 79,
      "metadata": {
        "id": "_zpoyRpZjEqp"
      },
      "outputs": [],
      "source": [
        "assert(output.shape == torch.Size([3, 3]))"
      ]
    },
    {
      "cell_type": "markdown",
      "metadata": {
        "id": "6HKHRg8UkLfz"
      },
      "source": [
        "### Activation and loss functions"
      ]
    },
    {
      "cell_type": "markdown",
      "metadata": {
        "id": "GwzcN4uGkXAM"
      },
      "source": [
        "You can use different activation functions from `torch.nn` and combine them sequentially with the NN layers"
      ]
    },
    {
      "cell_type": "code",
      "execution_count": 80,
      "metadata": {
        "id": "h9J8DHXGjO1J",
        "colab": {
          "base_uri": "https://localhost:8080/"
        },
        "outputId": "fe9da271-8a7e-4f68-cc87-e254925a25b3"
      },
      "outputs": [
        {
          "output_type": "execute_result",
          "data": {
            "text/plain": [
              "ReLU6()"
            ]
          },
          "metadata": {},
          "execution_count": 80
        }
      ],
      "source": [
        "# Example of the activation function\n",
        "torch.nn.ReLU6()"
      ]
    },
    {
      "cell_type": "markdown",
      "metadata": {
        "id": "AmXDvB9Hkq7D"
      },
      "source": [
        "You can use different loss functions from `torch.nn`"
      ]
    },
    {
      "cell_type": "code",
      "execution_count": 81,
      "metadata": {
        "id": "CMv12O20krIq"
      },
      "outputs": [],
      "source": [
        "# Example of the loss fun\n",
        "loss_function = torch.nn.CrossEntropyLoss()"
      ]
    },
    {
      "cell_type": "markdown",
      "metadata": {
        "id": "04nXIR3jkA1c"
      },
      "source": [
        "# Part 2. Feedforward Neural Network construction assignment "
      ]
    },
    {
      "cell_type": "markdown",
      "metadata": {
        "id": "J3E6eNqIl5PM"
      },
      "source": [
        "Import all the necessary libraries"
      ]
    },
    {
      "cell_type": "code",
      "execution_count": 1,
      "metadata": {
        "id": "TiLtxZ24mXBK"
      },
      "outputs": [],
      "source": [
        "import random\n",
        "\n",
        "import torch\n",
        "import torch.nn as nn\n",
        "import torch.optim as optim\n",
        "from torch.utils.data import Dataset, DataLoader\n",
        "\n",
        "import numpy as np\n",
        "\n",
        "import sklearn.datasets\n",
        "from sklearn.model_selection import train_test_split\n",
        "import sklearn.metrics as metrics\n",
        "\n",
        "from mlxtend.plotting import plot_decision_regions\n",
        "import matplotlib.pyplot as plt\n",
        "\n",
        "from tqdm.notebook import tqdm\n",
        "\n",
        "SEED = 0\n",
        "\n",
        "random.seed(SEED)\n",
        "np.random.seed(SEED)\n",
        "torch.manual_seed(SEED)\n",
        "torch.cuda.manual_seed(SEED)\n",
        "torch.backends.cudnn.deterministic = True\n",
        "\n",
        "device = ('cuda' if torch.cuda.is_available() else 'cpu')"
      ]
    },
    {
      "cell_type": "markdown",
      "metadata": {
        "id": "y8JoJwwamJPq"
      },
      "source": [
        "To use the `plot_decision_regions` we should additionally install the `mlxtend` package"
      ]
    },
    {
      "cell_type": "code",
      "execution_count": 2,
      "metadata": {
        "id": "VIAJAIG2l4Vq",
        "colab": {
          "base_uri": "https://localhost:8080/"
        },
        "outputId": "cc220c65-1d07-48b6-8770-897abd01ec50"
      },
      "outputs": [
        {
          "output_type": "stream",
          "name": "stdout",
          "text": [
            "Looking in indexes: https://pypi.org/simple, https://us-python.pkg.dev/colab-wheels/public/simple/\n",
            "Requirement already satisfied: mlxtend in /usr/local/lib/python3.8/dist-packages (0.14.0)\n",
            "Requirement already satisfied: numpy>=1.10.4 in /usr/local/lib/python3.8/dist-packages (from mlxtend) (1.21.6)\n",
            "Requirement already satisfied: scipy>=0.17 in /usr/local/lib/python3.8/dist-packages (from mlxtend) (1.7.3)\n",
            "Requirement already satisfied: scikit-learn>=0.18 in /usr/local/lib/python3.8/dist-packages (from mlxtend) (1.0.2)\n",
            "Requirement already satisfied: matplotlib>=1.5.1 in /usr/local/lib/python3.8/dist-packages (from mlxtend) (3.2.2)\n",
            "Requirement already satisfied: pandas>=0.17.1 in /usr/local/lib/python3.8/dist-packages (from mlxtend) (1.3.5)\n",
            "Requirement already satisfied: setuptools in /usr/local/lib/python3.8/dist-packages (from mlxtend) (57.4.0)\n",
            "Requirement already satisfied: pyparsing!=2.0.4,!=2.1.2,!=2.1.6,>=2.0.1 in /usr/local/lib/python3.8/dist-packages (from matplotlib>=1.5.1->mlxtend) (3.0.9)\n",
            "Requirement already satisfied: kiwisolver>=1.0.1 in /usr/local/lib/python3.8/dist-packages (from matplotlib>=1.5.1->mlxtend) (1.4.4)\n",
            "Requirement already satisfied: cycler>=0.10 in /usr/local/lib/python3.8/dist-packages (from matplotlib>=1.5.1->mlxtend) (0.11.0)\n",
            "Requirement already satisfied: python-dateutil>=2.1 in /usr/local/lib/python3.8/dist-packages (from matplotlib>=1.5.1->mlxtend) (2.8.2)\n",
            "Requirement already satisfied: pytz>=2017.3 in /usr/local/lib/python3.8/dist-packages (from pandas>=0.17.1->mlxtend) (2022.7.1)\n",
            "Requirement already satisfied: threadpoolctl>=2.0.0 in /usr/local/lib/python3.8/dist-packages (from scikit-learn>=0.18->mlxtend) (3.1.0)\n",
            "Requirement already satisfied: joblib>=0.11 in /usr/local/lib/python3.8/dist-packages (from scikit-learn>=0.18->mlxtend) (1.2.0)\n",
            "Requirement already satisfied: six>=1.5 in /usr/local/lib/python3.8/dist-packages (from python-dateutil>=2.1->matplotlib>=1.5.1->mlxtend) (1.15.0)\n"
          ]
        }
      ],
      "source": [
        "!pip install mlxtend"
      ]
    },
    {
      "cell_type": "markdown",
      "metadata": {
        "id": "kN4gvrl5md66"
      },
      "source": [
        "## Uploading dataset\n",
        "\n",
        "Let's upload the wine dataset from sklearn"
      ]
    },
    {
      "cell_type": "code",
      "execution_count": 3,
      "metadata": {
        "id": "ElBSbXRBkKUr",
        "colab": {
          "base_uri": "https://localhost:8080/"
        },
        "outputId": "e403de12-7d2d-40c1-8e74-7d5a2db68bbd"
      },
      "outputs": [
        {
          "output_type": "execute_result",
          "data": {
            "text/plain": [
              "(178, 13)"
            ]
          },
          "metadata": {},
          "execution_count": 3
        }
      ],
      "source": [
        "wine = sklearn.datasets.load_wine()\n",
        "wine.data.shape"
      ]
    },
    {
      "cell_type": "markdown",
      "metadata": {
        "id": "ZzmI_lNKs7M5"
      },
      "source": [
        "Create class for the dataset. Inherit a class from Dataset"
      ]
    },
    {
      "cell_type": "code",
      "execution_count": 4,
      "metadata": {
        "id": "1oTZKhTymtUE"
      },
      "outputs": [],
      "source": [
        "# Fill the WineDataset class fields\n",
        "class WineDataset():\n",
        "    def __init__(self, X, y):\n",
        "        ''' YOUR CODE HERE '''\n",
        "        self.X = torch.tensor(X, dtype=torch.float32).to('cpu')\n",
        "        self.y = torch.tensor(y, dtype=torch.float32).to('cpu')\n",
        "        self.len = X.shape[0]\n",
        "        \n",
        "        \n",
        "    \n",
        "    def __len__(self):\n",
        "        ''' YOUR CODE HERE '''\n",
        "        return self.X.shape[0]\n",
        "    \n",
        "    def __getitem__(self, idx):\n",
        "        ''' YOUR CODE HERE '''\n",
        "        return self.X[idx],self.y[idx]"
      ]
    },
    {
      "cell_type": "markdown",
      "metadata": {
        "id": "wzd8eZoUtrL5"
      },
      "source": [
        "Create train and test splits using `train_test_split` function with the following parameters:\n",
        "\n",
        "* size of test - 30%\n",
        "* using shuffle\n",
        "* using SEED constant for the random state\n",
        "\n",
        "Remember that use should use WineDataset class."
      ]
    },
    {
      "cell_type": "code",
      "execution_count": 5,
      "metadata": {
        "id": "-rizvl_0tiBq"
      },
      "outputs": [],
      "source": [
        "''' YOUR CODE HERE '''\n",
        "X_train, X_test, y_train, y_test = train_test_split(wine.data, wine.target, test_size = 0.3, random_state = SEED, shuffle = True)\n",
        "train_dataset = list(zip(X_train, y_train))\n",
        "test_dataset = list(zip(X_test, y_test))"
      ]
    },
    {
      "cell_type": "code",
      "execution_count": 6,
      "metadata": {
        "id": "t3hIxoW7uY-D"
      },
      "outputs": [],
      "source": [
        "assert(len(train_dataset) == 124)\n",
        "assert(len(test_dataset) == 54)"
      ]
    },
    {
      "cell_type": "markdown",
      "metadata": {
        "id": "4-qto2JZuw4p"
      },
      "source": [
        "## Creating Feedforward network\n",
        "\n",
        "Create the FNN with the following attributes:\n",
        "* 3 linear layers\n",
        "* activation functions on your choice (the most suitable for this kind of task)"
      ]
    },
    {
      "cell_type": "code",
      "execution_count": 7,
      "metadata": {
        "id": "LbHnrEWs3Egv"
      },
      "outputs": [],
      "source": [
        "\n",
        "''' YOUR CODE HERE '''\n",
        "INPUT_SIZE = 13\n",
        "OUTPUT_SIZE = 3\n",
        "\n",
        "class WineNet(nn.Module):\n",
        "    def __init__(self, n_hidden_neurons):\n",
        "        super().__init__()\n",
        "        \n",
        "        ''' YOUR CODE HERE '''\n",
        "        \n",
        "        self.hidden1 = torch.nn.Linear(INPUT_SIZE, n_hidden_neurons , dtype=np.float)\n",
        "        torch.nn.init.kaiming_uniform_(self.hidden1.weight, nonlinearity='relu')\n",
        "        self.act1 = torch.nn.ReLU()\n",
        "        # second hidden layer\n",
        "        self.hidden2 = torch.nn.Linear(n_hidden_neurons, n_hidden_neurons , dtype=np.float)\n",
        "        torch.nn.init.kaiming_uniform_(self.hidden2.weight, nonlinearity='relu')\n",
        "        self.act2 = torch.nn.ReLU()\n",
        "        # third hidden layer and output\n",
        "        self.hidden3 = torch.nn.Linear(n_hidden_neurons, OUTPUT_SIZE , dtype=np.float)\n",
        "        torch.nn.init.xavier_uniform_(self.hidden3.weight)\n",
        "\n",
        "    def forward(self, x):\n",
        "        ''' YOUR CODE HERE '''\n",
        "        x = self.hidden1(x)\n",
        "        x = self.act1(x)\n",
        "        # second hidden layer\n",
        "        x = self.hidden2(x)\n",
        "        x = self.act2(x)\n",
        "        # output layer\n",
        "        x = self.hidden3(x)\n",
        "\n",
        "        return x\n",
        "\n",
        "    # для использования в функции plot_decision_regions\n",
        "    def predict(self, x):\n",
        "        ''' PLEASE DO NOT CHANGE THE CODE OF THIS FUNCTION '''\n",
        "        x = torch.tensor(x, dtype=torch.float32).to('cpu')\n",
        "        with torch.no_grad():\n",
        "            x = self.forward(x)\n",
        "        x = x.cpu().argmax(dim=-1)\n",
        "        x = x.data.numpy()\n",
        "        return x"
      ]
    },
    {
      "cell_type": "code",
      "execution_count": 8,
      "metadata": {
        "id": "TCFnDMR3vl_a",
        "colab": {
          "base_uri": "https://localhost:8080/"
        },
        "outputId": "2068fca4-0908-467e-9584-2c7d9ec5fc66"
      },
      "outputs": [
        {
          "output_type": "stream",
          "name": "stderr",
          "text": [
            "<ipython-input-7-38bee8dc5a20>:11: DeprecationWarning: `np.float` is a deprecated alias for the builtin `float`. To silence this warning, use `float` by itself. Doing this will not modify any behavior and is safe. If you specifically wanted the numpy scalar type, use `np.float64` here.\n",
            "Deprecated in NumPy 1.20; for more details and guidance: https://numpy.org/devdocs/release/1.20.0-notes.html#deprecations\n",
            "  self.hidden1 = torch.nn.Linear(INPUT_SIZE, n_hidden_neurons , dtype=np.float)\n",
            "<ipython-input-7-38bee8dc5a20>:15: DeprecationWarning: `np.float` is a deprecated alias for the builtin `float`. To silence this warning, use `float` by itself. Doing this will not modify any behavior and is safe. If you specifically wanted the numpy scalar type, use `np.float64` here.\n",
            "Deprecated in NumPy 1.20; for more details and guidance: https://numpy.org/devdocs/release/1.20.0-notes.html#deprecations\n",
            "  self.hidden2 = torch.nn.Linear(n_hidden_neurons, n_hidden_neurons , dtype=np.float)\n",
            "<ipython-input-7-38bee8dc5a20>:19: DeprecationWarning: `np.float` is a deprecated alias for the builtin `float`. To silence this warning, use `float` by itself. Doing this will not modify any behavior and is safe. If you specifically wanted the numpy scalar type, use `np.float64` here.\n",
            "Deprecated in NumPy 1.20; for more details and guidance: https://numpy.org/devdocs/release/1.20.0-notes.html#deprecations\n",
            "  self.hidden3 = torch.nn.Linear(n_hidden_neurons, OUTPUT_SIZE , dtype=np.float)\n"
          ]
        }
      ],
      "source": [
        "model = WineNet(200) # you can change parameters here\n",
        "model = model.to('cpu')"
      ]
    },
    {
      "cell_type": "markdown",
      "metadata": {
        "id": "JB3p3LdpwAdR"
      },
      "source": [
        "## Training FNN"
      ]
    },
    {
      "cell_type": "code",
      "execution_count": 9,
      "metadata": {
        "id": "SU5dJkJZv6m5"
      },
      "outputs": [],
      "source": [
        "# Initialize the loss function and initialize and tune the optimizer and scheduler  \n",
        "''' YOUR CODE HERE '''\n",
        "loss = torch.nn.CrossEntropyLoss()\n",
        "\n",
        "#i tried SGD , but F1 score is low \n",
        "#optimizer = torch.optim.SGD(model.parameters(), lr=0.01, momentum=0.9)\n",
        "optimizer = torch.optim.Adam(model.parameters(), lr = 1e-3)\n",
        "lambda1 = lambda epoch: 0.65 ** epoch\n",
        "#i tried this , but F1 score is low \n",
        "#scheduler = torch.optim.lr_scheduler.LambdaLR(optimizer, lr_lambda=lambda1)\n",
        "scheduler = None"
      ]
    },
    {
      "cell_type": "markdown",
      "metadata": {
        "id": "aBn87Xy0xNSS"
      },
      "source": [
        "Write the code for the model training process.\n",
        "\n",
        "NOTE: You can memorize the best metric value and weight in the colab with the commands \n",
        "\n",
        "`torch.save(model.state_dict(), STATE_DICT_PATH)`, and `load model.load_state_dict(torch.load(STATE_DICT_PATH))`"
      ]
    },
    {
      "cell_type": "code",
      "execution_count": 10,
      "metadata": {
        "id": "JB7wbCFuwSIh",
        "colab": {
          "base_uri": "https://localhost:8080/",
          "height": 227,
          "referenced_widgets": [
            "3a1fcb552d174507a8c99b8b8d660ce5",
            "2a1e15bd506e451d9f568131f2366ed8",
            "0ac0a78757dc4a5e9f940cfd4720b046",
            "d88cdc2508114ae5976d773537a58fa9",
            "176eab7830954666bab59733d48f872e",
            "83b21fc96c714bc4a4e27fee66d0ea76",
            "3526ce58ccb144f494abb9f7bf7b5e68",
            "c86dff890cd34a5fb255029550abb7af",
            "dee408a4698940f080a3be19b95bbfff",
            "e66230c4a4e9483f8a2f228aa66bfe59",
            "1df71b70d5ec41c1b126b3cdceaf5448"
          ]
        },
        "outputId": "a6505bc2-c0d5-43b2-8aad-4b99603c76de"
      },
      "outputs": [
        {
          "output_type": "display_data",
          "data": {
            "text/plain": [
              "  0%|          | 0/1000 [00:00<?, ?it/s]"
            ],
            "application/vnd.jupyter.widget-view+json": {
              "version_major": 2,
              "version_minor": 0,
              "model_id": "3a1fcb552d174507a8c99b8b8d660ce5"
            }
          },
          "metadata": {}
        },
        {
          "output_type": "stream",
          "name": "stdout",
          "text": [
            "Test loss: 39.3681\t\tTest metric: 0.3704\n",
            "Test loss: 1.5848\t\tTest metric: 0.8889\n",
            "Test loss: 1.0098\t\tTest metric: 0.8519\n",
            "Test loss: 0.1587\t\tTest metric: 0.9444\n",
            "Test loss: 0.2507\t\tTest metric: 0.9074\n",
            "Test loss: 0.1962\t\tTest metric: 0.9259\n",
            "Test loss: 0.1570\t\tTest metric: 0.9444\n",
            "Test loss: 0.1483\t\tTest metric: 0.9444\n",
            "Test loss: 0.2266\t\tTest metric: 0.9259\n",
            "Test loss: 0.1789\t\tTest metric: 0.9259\n"
          ]
        }
      ],
      "source": [
        "''' YOUR CODE HERE '''\n",
        "BATCH_SIZE = 5\n",
        "EPOCHS_NUM = 1000\n",
        "\n",
        "''' PLEASE DO NOT CHANGE THE CODE OF THESE LINES '''\n",
        "train_loader = DataLoader(train_dataset, batch_size=BATCH_SIZE, shuffle=True, drop_last=False)\n",
        "test_loader = DataLoader(test_dataset, batch_size=BATCH_SIZE, shuffle=True, drop_last=False)\n",
        "\n",
        "# choose any metric from sklearn for multiclass classification\n",
        "''' YOUR CODE HERE '''\n",
        "metric_fn = sklearn.metrics.accuracy_score\n",
        "\n",
        "best_metric = sklearn.metrics.f1_score\n",
        "STATE_DICT_PATH = 'best_model_state_dict.pt'\n",
        "\n",
        "for epoch in tqdm(range(EPOCHS_NUM)):\n",
        "    model.train()\n",
        "    for x, y in train_loader:\n",
        "        ''' YOUR CODE HERE '''\n",
        "        # Several lines\n",
        "        \n",
        "        pred = model(x)\n",
        "        error = loss(pred, y.flatten().long())\n",
        "        optimizer.zero_grad()\n",
        "        error.backward() \n",
        "        optimizer.step()\n",
        "\n",
        "    if scheduler is not None:\n",
        "        scheduler.step()\n",
        "        \n",
        "    if epoch % 100 == 0:\n",
        "        model.eval()\n",
        "        test_preds = []\n",
        "        true = []\n",
        "        # with the no_grad() option, the gradients of the weights do not count\n",
        "        with torch.no_grad():\n",
        "            for x, y in test_loader:\n",
        "                ''' YOUR CODE HERE '''\n",
        "                preds = model(x)\n",
        "                test_preds.append(preds)\n",
        "                true.append(y.flatten().long())\n",
        "        \n",
        "        test_preds = torch.cat(test_preds).squeeze()\n",
        "        true = torch.cat(true).squeeze()\n",
        "        test_loss = loss(test_preds, true).item()\n",
        "        test_metric = metric_fn(true, test_preds.argmax(dim=-1))\n",
        "        \n",
        "        ''' YOUR CODE HERE '''\n",
        "        # Only if you want to save the best state\n",
        "\n",
        "        print(f'Test loss: {test_loss:0.4f}\\t\\tTest metric: {test_metric:0.4f}')"
      ]
    },
    {
      "cell_type": "markdown",
      "metadata": {
        "id": "ZCsjlTrJxu6p"
      },
      "source": [
        "Example of the nice data plot :)"
      ]
    },
    {
      "cell_type": "code",
      "execution_count": 11,
      "metadata": {
        "id": "tFuu3GCjxo7K",
        "colab": {
          "base_uri": "https://localhost:8080/",
          "height": 863
        },
        "outputId": "96cfd7fc-313e-4ab3-b321-b5c2daaee6e4"
      },
      "outputs": [
        {
          "output_type": "stream",
          "name": "stdout",
          "text": [
            "float64\n",
            "int64\n"
          ]
        },
        {
          "output_type": "error",
          "ename": "RuntimeError",
          "evalue": "ignored",
          "traceback": [
            "\u001b[0;31m---------------------------------------------------------------------------\u001b[0m",
            "\u001b[0;31mRuntimeError\u001b[0m                              Traceback (most recent call last)",
            "\u001b[0;32m<ipython-input-11-d2c9c8f53c4a>\u001b[0m in \u001b[0;36m<module>\u001b[0;34m\u001b[0m\n\u001b[1;32m     11\u001b[0m \u001b[0mprint\u001b[0m\u001b[0;34m(\u001b[0m\u001b[0my\u001b[0m\u001b[0;34m.\u001b[0m\u001b[0mdtype\u001b[0m\u001b[0;34m)\u001b[0m\u001b[0;34m\u001b[0m\u001b[0;34m\u001b[0m\u001b[0m\n\u001b[1;32m     12\u001b[0m \u001b[0;34m\u001b[0m\u001b[0m\n\u001b[0;32m---> 13\u001b[0;31m \u001b[0mplot_decision_regions\u001b[0m\u001b[0;34m(\u001b[0m\u001b[0mX\u001b[0m\u001b[0;34m,\u001b[0m \u001b[0my\u001b[0m\u001b[0;34m,\u001b[0m \u001b[0mclf\u001b[0m\u001b[0;34m=\u001b[0m\u001b[0mmodel\u001b[0m\u001b[0;34m,\u001b[0m \u001b[0mlegend\u001b[0m\u001b[0;34m=\u001b[0m\u001b[0;36m2\u001b[0m\u001b[0;34m)\u001b[0m\u001b[0;34m\u001b[0m\u001b[0;34m\u001b[0m\u001b[0m\n\u001b[0m",
            "\u001b[0;32m/usr/local/lib/python3.8/dist-packages/mlxtend/plotting/decision_regions.py\u001b[0m in \u001b[0;36mplot_decision_regions\u001b[0;34m(X, y, clf, feature_index, filler_feature_values, filler_feature_ranges, ax, X_highlight, res, legend, hide_spines, markers, colors, scatter_kwargs, contourf_kwargs, scatter_highlight_kwargs)\u001b[0m\n\u001b[1;32m    223\u001b[0m             \u001b[0;32mfor\u001b[0m \u001b[0mfeature_idx\u001b[0m \u001b[0;32min\u001b[0m \u001b[0mfiller_feature_values\u001b[0m\u001b[0;34m:\u001b[0m\u001b[0;34m\u001b[0m\u001b[0;34m\u001b[0m\u001b[0m\n\u001b[1;32m    224\u001b[0m                 \u001b[0mX_predict\u001b[0m\u001b[0;34m[\u001b[0m\u001b[0;34m:\u001b[0m\u001b[0;34m,\u001b[0m \u001b[0mfeature_idx\u001b[0m\u001b[0;34m]\u001b[0m \u001b[0;34m=\u001b[0m \u001b[0mfiller_feature_values\u001b[0m\u001b[0;34m[\u001b[0m\u001b[0mfeature_idx\u001b[0m\u001b[0;34m]\u001b[0m\u001b[0;34m\u001b[0m\u001b[0;34m\u001b[0m\u001b[0m\n\u001b[0;32m--> 225\u001b[0;31m     \u001b[0mZ\u001b[0m \u001b[0;34m=\u001b[0m \u001b[0mclf\u001b[0m\u001b[0;34m.\u001b[0m\u001b[0mpredict\u001b[0m\u001b[0;34m(\u001b[0m\u001b[0mX_predict\u001b[0m\u001b[0;34m.\u001b[0m\u001b[0mastype\u001b[0m\u001b[0;34m(\u001b[0m\u001b[0mX\u001b[0m\u001b[0;34m.\u001b[0m\u001b[0mdtype\u001b[0m\u001b[0;34m)\u001b[0m\u001b[0;34m)\u001b[0m\u001b[0;34m\u001b[0m\u001b[0;34m\u001b[0m\u001b[0m\n\u001b[0m\u001b[1;32m    226\u001b[0m     \u001b[0mZ\u001b[0m \u001b[0;34m=\u001b[0m \u001b[0mZ\u001b[0m\u001b[0;34m.\u001b[0m\u001b[0mreshape\u001b[0m\u001b[0;34m(\u001b[0m\u001b[0mxx\u001b[0m\u001b[0;34m.\u001b[0m\u001b[0mshape\u001b[0m\u001b[0;34m)\u001b[0m\u001b[0;34m\u001b[0m\u001b[0;34m\u001b[0m\u001b[0m\n\u001b[1;32m    227\u001b[0m     \u001b[0;31m# Plot decisoin region\u001b[0m\u001b[0;34m\u001b[0m\u001b[0;34m\u001b[0m\u001b[0;34m\u001b[0m\u001b[0m\n",
            "\u001b[0;32m<ipython-input-7-38bee8dc5a20>\u001b[0m in \u001b[0;36mpredict\u001b[0;34m(self, x)\u001b[0m\n\u001b[1;32m     37\u001b[0m         \u001b[0mx\u001b[0m \u001b[0;34m=\u001b[0m \u001b[0mtorch\u001b[0m\u001b[0;34m.\u001b[0m\u001b[0mtensor\u001b[0m\u001b[0;34m(\u001b[0m\u001b[0mx\u001b[0m\u001b[0;34m,\u001b[0m \u001b[0mdtype\u001b[0m\u001b[0;34m=\u001b[0m\u001b[0mtorch\u001b[0m\u001b[0;34m.\u001b[0m\u001b[0mfloat32\u001b[0m\u001b[0;34m)\u001b[0m\u001b[0;34m.\u001b[0m\u001b[0mto\u001b[0m\u001b[0;34m(\u001b[0m\u001b[0;34m'cpu'\u001b[0m\u001b[0;34m)\u001b[0m\u001b[0;34m\u001b[0m\u001b[0;34m\u001b[0m\u001b[0m\n\u001b[1;32m     38\u001b[0m         \u001b[0;32mwith\u001b[0m \u001b[0mtorch\u001b[0m\u001b[0;34m.\u001b[0m\u001b[0mno_grad\u001b[0m\u001b[0;34m(\u001b[0m\u001b[0;34m)\u001b[0m\u001b[0;34m:\u001b[0m\u001b[0;34m\u001b[0m\u001b[0;34m\u001b[0m\u001b[0m\n\u001b[0;32m---> 39\u001b[0;31m             \u001b[0mx\u001b[0m \u001b[0;34m=\u001b[0m \u001b[0mself\u001b[0m\u001b[0;34m.\u001b[0m\u001b[0mforward\u001b[0m\u001b[0;34m(\u001b[0m\u001b[0mx\u001b[0m\u001b[0;34m)\u001b[0m\u001b[0;34m\u001b[0m\u001b[0;34m\u001b[0m\u001b[0m\n\u001b[0m\u001b[1;32m     40\u001b[0m         \u001b[0mx\u001b[0m \u001b[0;34m=\u001b[0m \u001b[0mx\u001b[0m\u001b[0;34m.\u001b[0m\u001b[0mcpu\u001b[0m\u001b[0;34m(\u001b[0m\u001b[0;34m)\u001b[0m\u001b[0;34m.\u001b[0m\u001b[0margmax\u001b[0m\u001b[0;34m(\u001b[0m\u001b[0mdim\u001b[0m\u001b[0;34m=\u001b[0m\u001b[0;34m-\u001b[0m\u001b[0;36m1\u001b[0m\u001b[0;34m)\u001b[0m\u001b[0;34m\u001b[0m\u001b[0;34m\u001b[0m\u001b[0m\n\u001b[1;32m     41\u001b[0m         \u001b[0mx\u001b[0m \u001b[0;34m=\u001b[0m \u001b[0mx\u001b[0m\u001b[0;34m.\u001b[0m\u001b[0mdata\u001b[0m\u001b[0;34m.\u001b[0m\u001b[0mnumpy\u001b[0m\u001b[0;34m(\u001b[0m\u001b[0;34m)\u001b[0m\u001b[0;34m\u001b[0m\u001b[0;34m\u001b[0m\u001b[0m\n",
            "\u001b[0;32m<ipython-input-7-38bee8dc5a20>\u001b[0m in \u001b[0;36mforward\u001b[0;34m(self, x)\u001b[0m\n\u001b[1;32m     22\u001b[0m     \u001b[0;32mdef\u001b[0m \u001b[0mforward\u001b[0m\u001b[0;34m(\u001b[0m\u001b[0mself\u001b[0m\u001b[0;34m,\u001b[0m \u001b[0mx\u001b[0m\u001b[0;34m)\u001b[0m\u001b[0;34m:\u001b[0m\u001b[0;34m\u001b[0m\u001b[0;34m\u001b[0m\u001b[0m\n\u001b[1;32m     23\u001b[0m         \u001b[0;34m''' YOUR CODE HERE '''\u001b[0m\u001b[0;34m\u001b[0m\u001b[0;34m\u001b[0m\u001b[0m\n\u001b[0;32m---> 24\u001b[0;31m         \u001b[0mx\u001b[0m \u001b[0;34m=\u001b[0m \u001b[0mself\u001b[0m\u001b[0;34m.\u001b[0m\u001b[0mhidden1\u001b[0m\u001b[0;34m(\u001b[0m\u001b[0mx\u001b[0m\u001b[0;34m)\u001b[0m\u001b[0;34m\u001b[0m\u001b[0;34m\u001b[0m\u001b[0m\n\u001b[0m\u001b[1;32m     25\u001b[0m         \u001b[0mx\u001b[0m \u001b[0;34m=\u001b[0m \u001b[0mself\u001b[0m\u001b[0;34m.\u001b[0m\u001b[0mact1\u001b[0m\u001b[0;34m(\u001b[0m\u001b[0mx\u001b[0m\u001b[0;34m)\u001b[0m\u001b[0;34m\u001b[0m\u001b[0;34m\u001b[0m\u001b[0m\n\u001b[1;32m     26\u001b[0m         \u001b[0;31m# second hidden layer\u001b[0m\u001b[0;34m\u001b[0m\u001b[0;34m\u001b[0m\u001b[0;34m\u001b[0m\u001b[0m\n",
            "\u001b[0;32m/usr/local/lib/python3.8/dist-packages/torch/nn/modules/module.py\u001b[0m in \u001b[0;36m_call_impl\u001b[0;34m(self, *input, **kwargs)\u001b[0m\n\u001b[1;32m   1192\u001b[0m         if not (self._backward_hooks or self._forward_hooks or self._forward_pre_hooks or _global_backward_hooks\n\u001b[1;32m   1193\u001b[0m                 or _global_forward_hooks or _global_forward_pre_hooks):\n\u001b[0;32m-> 1194\u001b[0;31m             \u001b[0;32mreturn\u001b[0m \u001b[0mforward_call\u001b[0m\u001b[0;34m(\u001b[0m\u001b[0;34m*\u001b[0m\u001b[0minput\u001b[0m\u001b[0;34m,\u001b[0m \u001b[0;34m**\u001b[0m\u001b[0mkwargs\u001b[0m\u001b[0;34m)\u001b[0m\u001b[0;34m\u001b[0m\u001b[0;34m\u001b[0m\u001b[0m\n\u001b[0m\u001b[1;32m   1195\u001b[0m         \u001b[0;31m# Do not call functions when jit is used\u001b[0m\u001b[0;34m\u001b[0m\u001b[0;34m\u001b[0m\u001b[0;34m\u001b[0m\u001b[0m\n\u001b[1;32m   1196\u001b[0m         \u001b[0mfull_backward_hooks\u001b[0m\u001b[0;34m,\u001b[0m \u001b[0mnon_full_backward_hooks\u001b[0m \u001b[0;34m=\u001b[0m \u001b[0;34m[\u001b[0m\u001b[0;34m]\u001b[0m\u001b[0;34m,\u001b[0m \u001b[0;34m[\u001b[0m\u001b[0;34m]\u001b[0m\u001b[0;34m\u001b[0m\u001b[0;34m\u001b[0m\u001b[0m\n",
            "\u001b[0;32m/usr/local/lib/python3.8/dist-packages/torch/nn/modules/linear.py\u001b[0m in \u001b[0;36mforward\u001b[0;34m(self, input)\u001b[0m\n\u001b[1;32m    112\u001b[0m \u001b[0;34m\u001b[0m\u001b[0m\n\u001b[1;32m    113\u001b[0m     \u001b[0;32mdef\u001b[0m \u001b[0mforward\u001b[0m\u001b[0;34m(\u001b[0m\u001b[0mself\u001b[0m\u001b[0;34m,\u001b[0m \u001b[0minput\u001b[0m\u001b[0;34m:\u001b[0m \u001b[0mTensor\u001b[0m\u001b[0;34m)\u001b[0m \u001b[0;34m->\u001b[0m \u001b[0mTensor\u001b[0m\u001b[0;34m:\u001b[0m\u001b[0;34m\u001b[0m\u001b[0;34m\u001b[0m\u001b[0m\n\u001b[0;32m--> 114\u001b[0;31m         \u001b[0;32mreturn\u001b[0m \u001b[0mF\u001b[0m\u001b[0;34m.\u001b[0m\u001b[0mlinear\u001b[0m\u001b[0;34m(\u001b[0m\u001b[0minput\u001b[0m\u001b[0;34m,\u001b[0m \u001b[0mself\u001b[0m\u001b[0;34m.\u001b[0m\u001b[0mweight\u001b[0m\u001b[0;34m,\u001b[0m \u001b[0mself\u001b[0m\u001b[0;34m.\u001b[0m\u001b[0mbias\u001b[0m\u001b[0;34m)\u001b[0m\u001b[0;34m\u001b[0m\u001b[0;34m\u001b[0m\u001b[0m\n\u001b[0m\u001b[1;32m    115\u001b[0m \u001b[0;34m\u001b[0m\u001b[0m\n\u001b[1;32m    116\u001b[0m     \u001b[0;32mdef\u001b[0m \u001b[0mextra_repr\u001b[0m\u001b[0;34m(\u001b[0m\u001b[0mself\u001b[0m\u001b[0;34m)\u001b[0m \u001b[0;34m->\u001b[0m \u001b[0mstr\u001b[0m\u001b[0;34m:\u001b[0m\u001b[0;34m\u001b[0m\u001b[0;34m\u001b[0m\u001b[0m\n",
            "\u001b[0;31mRuntimeError\u001b[0m: mat1 and mat2 must have the same dtype"
          ]
        },
        {
          "output_type": "display_data",
          "data": {
            "text/plain": [
              "<Figure size 720x576 with 1 Axes>"
            ],
            "image/png": "[encoded data removed]"
          },
          "metadata": {
            "needs_background": "light"
          }
        }
      ],
      "source": [
        "# display decision region for all elements\n",
        "\n",
        "model.eval()\n",
        "plt.rcParams['figure.figsize'] = (10, 8)\n",
        "\n",
        "X = wine.data[:, :2]# fix here if needed \n",
        "y = wine.target.astype('int')\n",
        "\n",
        "\n",
        "print(X.dtype)\n",
        "print(y.dtype)\n",
        "\n",
        "plot_decision_regions(X, y, clf=model, legend=2)"
      ]
    },
    {
      "cell_type": "markdown",
      "metadata": {
        "id": "oaF116Zdxsax"
      },
      "source": [
        "### Model evaluation\n",
        "\n",
        "You should create a model with the F1-score greater than 0.87"
      ]
    },
    {
      "cell_type": "code",
      "execution_count": 12,
      "metadata": {
        "id": "N4Qal9n4x5ca",
        "colab": {
          "base_uri": "https://localhost:8080/"
        },
        "outputId": "90656c30-2a55-46ff-adcb-170e9e707680"
      },
      "outputs": [
        {
          "output_type": "stream",
          "name": "stdout",
          "text": [
            "F1-score on test: 0.9634937968271302\n"
          ]
        }
      ],
      "source": [
        "model.eval()\n",
        "test_preds = []\n",
        "true = []\n",
        "\n",
        "with torch.no_grad():\n",
        "    for x, y in test_loader:\n",
        "        x = x.to('cpu')\n",
        "        preds = model.forward(x).cpu()\n",
        "        test_preds.append(preds)\n",
        "        true.append(y)\n",
        "test_preds = torch.cat(test_preds).squeeze()\n",
        "true = torch.cat(true).squeeze()\n",
        "test_metric = metrics.f1_score(true, test_preds.argmax(dim=-1), average='macro')\n",
        "\n",
        "print('F1-score on test:', test_metric)\n",
        "assert test_metric >= 0.87, \"You need to get f1_score greater or equal to 0.87\""
      ]
    }
  ],
  "metadata": {
    "accelerator": "GPU",
    "colab": {
      "provenance": []
    },
    "kernelspec": {
      "display_name": "Python 3",
      "name": "python3"
    },
    "language_info": {
      "name": "python"
    },
    "widgets": {
      "application/vnd.jupyter.widget-state+json": {
        "3a1fcb552d174507a8c99b8b8d660ce5": {
          "model_module": "@jupyter-widgets/controls",
          "model_name": "HBoxModel",
          "model_module_version": "1.5.0",
          "state": {
            "_dom_classes": [],
            "_model_module": "@jupyter-widgets/controls",
            "_model_module_version": "1.5.0",
            "_model_name": "HBoxModel",
            "_view_count": null,
            "_view_module": "@jupyter-widgets/controls",
            "_view_module_version": "1.5.0",
            "_view_name": "HBoxView",
            "box_style": "",
            "children": [
              "IPY_MODEL_2a1e15bd506e451d9f568131f2366ed8",
              "IPY_MODEL_0ac0a78757dc4a5e9f940cfd4720b046",
              "IPY_MODEL_d88cdc2508114ae5976d773537a58fa9"
            ],
            "layout": "IPY_MODEL_176eab7830954666bab59733d48f872e"
          }
        },
        "2a1e15bd506e451d9f568131f2366ed8": {
          "model_module": "@jupyter-widgets/controls",
          "model_name": "HTMLModel",
          "model_module_version": "1.5.0",
          "state": {
            "_dom_classes": [],
            "_model_module": "@jupyter-widgets/controls",
            "_model_module_version": "1.5.0",
            "_model_name": "HTMLModel",
            "_view_count": null,
            "_view_module": "@jupyter-widgets/controls",
            "_view_module_version": "1.5.0",
            "_view_name": "HTMLView",
            "description": "",
            "description_tooltip": null,
            "layout": "IPY_MODEL_83b21fc96c714bc4a4e27fee66d0ea76",
            "placeholder": "​",
            "style": "IPY_MODEL_3526ce58ccb144f494abb9f7bf7b5e68",
            "value": "100%"
          }
        },
        "0ac0a78757dc4a5e9f940cfd4720b046": {
          "model_module": "@jupyter-widgets/controls",
          "model_name": "FloatProgressModel",
          "model_module_version": "1.5.0",
          "state": {
            "_dom_classes": [],
            "_model_module": "@jupyter-widgets/controls",
            "_model_module_version": "1.5.0",
            "_model_name": "FloatProgressModel",
            "_view_count": null,
            "_view_module": "@jupyter-widgets/controls",
            "_view_module_version": "1.5.0",
            "_view_name": "ProgressView",
            "bar_style": "success",
            "description": "",
            "description_tooltip": null,
            "layout": "IPY_MODEL_c86dff890cd34a5fb255029550abb7af",
            "max": 1000,
            "min": 0,
            "orientation": "horizontal",
            "style": "IPY_MODEL_dee408a4698940f080a3be19b95bbfff",
            "value": 1000
          }
        },
        "d88cdc2508114ae5976d773537a58fa9": {
          "model_module": "@jupyter-widgets/controls",
          "model_name": "HTMLModel",
          "model_module_version": "1.5.0",
          "state": {
            "_dom_classes": [],
            "_model_module": "@jupyter-widgets/controls",
            "_model_module_version": "1.5.0",
            "_model_name": "HTMLModel",
            "_view_count": null,
            "_view_module": "@jupyter-widgets/controls",
            "_view_module_version": "1.5.0",
            "_view_name": "HTMLView",
            "description": "",
            "description_tooltip": null,
            "layout": "IPY_MODEL_e66230c4a4e9483f8a2f228aa66bfe59",
            "placeholder": "​",
            "style": "IPY_MODEL_1df71b70d5ec41c1b126b3cdceaf5448",
            "value": " 1000/1000 [00:54&lt;00:00, 20.13it/s]"
          }
        },
        "176eab7830954666bab59733d48f872e": {
          "model_module": "@jupyter-widgets/base",
          "model_name": "LayoutModel",
          "model_module_version": "1.2.0",
          "state": {
            "_model_module": "@jupyter-widgets/base",
            "_model_module_version": "1.2.0",
            "_model_name": "LayoutModel",
            "_view_count": null,
            "_view_module": "@jupyter-widgets/base",
            "_view_module_version": "1.2.0",
            "_view_name": "LayoutView",
            "align_content": null,
            "align_items": null,
            "align_self": null,
            "border": null,
            "bottom": null,
            "display": null,
            "flex": null,
            "flex_flow": null,
            "grid_area": null,
            "grid_auto_columns": null,
            "grid_auto_flow": null,
            "grid_auto_rows": null,
            "grid_column": null,
            "grid_gap": null,
            "grid_row": null,
            "grid_template_areas": null,
            "grid_template_columns": null,
            "grid_template_rows": null,
            "height": null,
            "justify_content": null,
            "justify_items": null,
            "left": null,
            "margin": null,
            "max_height": null,
            "max_width": null,
            "min_height": null,
            "min_width": null,
            "object_fit": null,
            "object_position": null,
            "order": null,
            "overflow": null,
            "overflow_x": null,
            "overflow_y": null,
            "padding": null,
            "right": null,
            "top": null,
            "visibility": null,
            "width": null
          }
        },
        "83b21fc96c714bc4a4e27fee66d0ea76": {
          "model_module": "@jupyter-widgets/base",
          "model_name": "LayoutModel",
          "model_module_version": "1.2.0",
          "state": {
            "_model_module": "@jupyter-widgets/base",
            "_model_module_version": "1.2.0",
            "_model_name": "LayoutModel",
            "_view_count": null,
            "_view_module": "@jupyter-widgets/base",
            "_view_module_version": "1.2.0",
            "_view_name": "LayoutView",
            "align_content": null,
            "align_items": null,
            "align_self": null,
            "border": null,
            "bottom": null,
            "display": null,
            "flex": null,
            "flex_flow": null,
            "grid_area": null,
            "grid_auto_columns": null,
            "grid_auto_flow": null,
            "grid_auto_rows": null,
            "grid_column": null,
            "grid_gap": null,
            "grid_row": null,
            "grid_template_areas": null,
            "grid_template_columns": null,
            "grid_template_rows": null,
            "height": null,
            "justify_content": null,
            "justify_items": null,
            "left": null,
            "margin": null,
            "max_height": null,
            "max_width": null,
            "min_height": null,
            "min_width": null,
            "object_fit": null,
            "object_position": null,
            "order": null,
            "overflow": null,
            "overflow_x": null,
            "overflow_y": null,
            "padding": null,
            "right": null,
            "top": null,
            "visibility": null,
            "width": null
          }
        },
        "3526ce58ccb144f494abb9f7bf7b5e68": {
          "model_module": "@jupyter-widgets/controls",
          "model_name": "DescriptionStyleModel",
          "model_module_version": "1.5.0",
          "state": {
            "_model_module": "@jupyter-widgets/controls",
            "_model_module_version": "1.5.0",
            "_model_name": "DescriptionStyleModel",
            "_view_count": null,
            "_view_module": "@jupyter-widgets/base",
            "_view_module_version": "1.2.0",
            "_view_name": "StyleView",
            "description_width": ""
          }
        },
        "c86dff890cd34a5fb255029550abb7af": {
          "model_module": "@jupyter-widgets/base",
          "model_name": "LayoutModel",
          "model_module_version": "1.2.0",
          "state": {
            "_model_module": "@jupyter-widgets/base",
            "_model_module_version": "1.2.0",
            "_model_name": "LayoutModel",
            "_view_count": null,
            "_view_module": "@jupyter-widgets/base",
            "_view_module_version": "1.2.0",
            "_view_name": "LayoutView",
            "align_content": null,
            "align_items": null,
            "align_self": null,
            "border": null,
            "bottom": null,
            "display": null,
            "flex": null,
            "flex_flow": null,
            "grid_area": null,
            "grid_auto_columns": null,
            "grid_auto_flow": null,
            "grid_auto_rows": null,
            "grid_column": null,
            "grid_gap": null,
            "grid_row": null,
            "grid_template_areas": null,
            "grid_template_columns": null,
            "grid_template_rows": null,
            "height": null,
            "justify_content": null,
            "justify_items": null,
            "left": null,
            "margin": null,
            "max_height": null,
            "max_width": null,
            "min_height": null,
            "min_width": null,
            "object_fit": null,
            "object_position": null,
            "order": null,
            "overflow": null,
            "overflow_x": null,
            "overflow_y": null,
            "padding": null,
            "right": null,
            "top": null,
            "visibility": null,
            "width": null
          }
        },
        "dee408a4698940f080a3be19b95bbfff": {
          "model_module": "@jupyter-widgets/controls",
          "model_name": "ProgressStyleModel",
          "model_module_version": "1.5.0",
          "state": {
            "_model_module": "@jupyter-widgets/controls",
            "_model_module_version": "1.5.0",
            "_model_name": "ProgressStyleModel",
            "_view_count": null,
            "_view_module": "@jupyter-widgets/base",
            "_view_module_version": "1.2.0",
            "_view_name": "StyleView",
            "bar_color": null,
            "description_width": ""
          }
        },
        "e66230c4a4e9483f8a2f228aa66bfe59": {
          "model_module": "@jupyter-widgets/base",
          "model_name": "LayoutModel",
          "model_module_version": "1.2.0",
          "state": {
            "_model_module": "@jupyter-widgets/base",
            "_model_module_version": "1.2.0",
            "_model_name": "LayoutModel",
            "_view_count": null,
            "_view_module": "@jupyter-widgets/base",
            "_view_module_version": "1.2.0",
            "_view_name": "LayoutView",
            "align_content": null,
            "align_items": null,
            "align_self": null,
            "border": null,
            "bottom": null,
            "display": null,
            "flex": null,
            "flex_flow": null,
            "grid_area": null,
            "grid_auto_columns": null,
            "grid_auto_flow": null,
            "grid_auto_rows": null,
            "grid_column": null,
            "grid_gap": null,
            "grid_row": null,
            "grid_template_areas": null,
            "grid_template_columns": null,
            "grid_template_rows": null,
            "height": null,
            "justify_content": null,
            "justify_items": null,
            "left": null,
            "margin": null,
            "max_height": null,
            "max_width": null,
            "min_height": null,
            "min_width": null,
            "object_fit": null,
            "object_position": null,
            "order": null,
            "overflow": null,
            "overflow_x": null,
            "overflow_y": null,
            "padding": null,
            "right": null,
            "top": null,
            "visibility": null,
            "width": null
          }
        },
        "1df71b70d5ec41c1b126b3cdceaf5448": {
          "model_module": "@jupyter-widgets/controls",
          "model_name": "DescriptionStyleModel",
          "model_module_version": "1.5.0",
          "state": {
            "_model_module": "@jupyter-widgets/controls",
            "_model_module_version": "1.5.0",
            "_model_name": "DescriptionStyleModel",
            "_view_count": null,
            "_view_module": "@jupyter-widgets/base",
            "_view_module_version": "1.2.0",
            "_view_name": "StyleView",
            "description_width": ""
          }
        }
      }
    }
  },
  "nbformat": 4,
  "nbformat_minor": 0
}